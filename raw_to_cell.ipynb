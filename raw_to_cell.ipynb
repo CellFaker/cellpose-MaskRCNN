{
 "cells": [
  {
   "cell_type": "code",
   "execution_count": 1,
   "metadata": {},
   "outputs": [],
   "source": [
    "#Yu Yamaoka\n",
    "\n",
    "#Path Define\n",
    "img_path = \"dataset/rawdata/test.png\"\n",
    "\n",
    "#Parameter Define\n",
    "model_type = 'cyto'\n",
    "chan = [0,0]"
   ]
  },
  {
   "cell_type": "code",
   "execution_count": 4,
   "metadata": {},
   "outputs": [],
   "source": [
    "#Function Define\n",
    "from cellpose import models, io\n",
    "import matplotlib.pyplot as plt\n",
    "\n",
    "# DEFINE CELLPOSE MODEL\n",
    "# model_type='cyto' or model_type='nuclei'\n",
    "def img_to_cellpose(img_path):\n",
    "    \"\"\"\n",
    "    Input:\n",
    "        img_path : (string) Image file PATH\n",
    "    Return:\n",
    "        saved inference data at file PATH.\n",
    "    \"\"\"\n",
    "    model = models.Cellpose(gpu=False, model_type=model_type)\n",
    "    img = io.imread(img_path)\n",
    "    masks, flows, styles, diams = model.eval(img, diameter=None, channels=chan)\n",
    "\n",
    "    # save results so you can load in gui\n",
    "    io.masks_flows_to_seg(img, masks, flows, diams, img_path, chan)\n",
    "\n",
    "    # save results as png\n",
    "    plt.imsave(\"test.png\",masks)"
   ]
  },
  {
   "cell_type": "code",
   "execution_count": 3,
   "metadata": {},
   "outputs": [],
   "source": [
    "#main\n",
    "img_to_cellpose(img_path)"
   ]
  },
  {
   "cell_type": "code",
   "execution_count": null,
   "metadata": {},
   "outputs": [],
   "source": []
  },
  {
   "cell_type": "code",
   "execution_count": null,
   "metadata": {},
   "outputs": [],
   "source": []
  }
 ],
 "metadata": {
  "interpreter": {
   "hash": "6b4a9d0a37fae7cfb9e98125e5191c9ee67801e9041781c94a892f8da9cbc8f2"
  },
  "kernelspec": {
   "display_name": "Python 3.8.13 ('cell')",
   "language": "python",
   "name": "python3"
  },
  "language_info": {
   "codemirror_mode": {
    "name": "ipython",
    "version": 3
   },
   "file_extension": ".py",
   "mimetype": "text/x-python",
   "name": "python",
   "nbconvert_exporter": "python",
   "pygments_lexer": "ipython3",
   "version": "3.8.13"
  },
  "orig_nbformat": 4
 },
 "nbformat": 4,
 "nbformat_minor": 2
}
