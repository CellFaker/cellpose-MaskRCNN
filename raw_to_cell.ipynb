{
 "cells": [
  {
   "cell_type": "code",
   "execution_count": 12,
   "metadata": {},
   "outputs": [],
   "source": [
    "#Yu Yamaoka\n",
    "model_type = 'cyto'\n",
    "chan = [0,0]\n",
    "filename = \"dataset/rawdata/test.png\""
   ]
  },
  {
   "cell_type": "code",
   "execution_count": 13,
   "metadata": {},
   "outputs": [],
   "source": [
    "#Function Define\n",
    "from cellpose import models, io\n",
    "\n",
    "# DEFINE CELLPOSE MODEL\n",
    "# model_type='cyto' or model_type='nuclei'\n",
    "def img_to_cellpose(filename):\n",
    "    \"\"\"\n",
    "    Input:\n",
    "        filename : (string) Image file PATH\n",
    "    Return:\n",
    "        saved inference data at file PATH.\n",
    "    \"\"\"\n",
    "    model = models.Cellpose(gpu=False, model_type=model_type)\n",
    "    img = io.imread(filename)\n",
    "    masks, flows, styles, diams = model.eval(img, diameter=None, channels=chan)\n",
    "\n",
    "    # save results so you can load in gui\n",
    "    io.masks_flows_to_seg(img, masks, flows, diams, filename, chan)\n",
    "\n",
    "    # save results as png\n",
    "    io.save_to_png(img, masks, flows, filename)"
   ]
  },
  {
   "cell_type": "code",
   "execution_count": 15,
   "metadata": {},
   "outputs": [],
   "source": [
    "img_to_cellpose(filename)"
   ]
  },
  {
   "cell_type": "code",
   "execution_count": null,
   "metadata": {},
   "outputs": [],
   "source": []
  }
 ],
 "metadata": {
  "interpreter": {
   "hash": "6b4a9d0a37fae7cfb9e98125e5191c9ee67801e9041781c94a892f8da9cbc8f2"
  },
  "kernelspec": {
   "display_name": "Python 3.8.13 ('cell')",
   "language": "python",
   "name": "python3"
  },
  "language_info": {
   "codemirror_mode": {
    "name": "ipython",
    "version": 3
   },
   "file_extension": ".py",
   "mimetype": "text/x-python",
   "name": "python",
   "nbconvert_exporter": "python",
   "pygments_lexer": "ipython3",
   "version": "3.8.13"
  },
  "orig_nbformat": 4
 },
 "nbformat": 4,
 "nbformat_minor": 2
}
