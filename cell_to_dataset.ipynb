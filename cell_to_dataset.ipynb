{
 "cells": [
  {
   "cell_type": "code",
   "execution_count": 2,
   "metadata": {},
   "outputs": [],
   "source": [
    "#Yu Yamaoka\n",
    "#Function Define\n",
    "import cv2\n",
    "import numpy as np\n",
    "import copy\n",
    "\n",
    "def obj_detection(mask_path, class_id: int):\n",
    "    \"\"\"\n",
    "        opencvのブロブ検出関数の戻り値が微妙に変わってる気がするのでダウングレード推奨\n",
    "        最新はcv2.__version == 4.5.1なので pip install -U opencv-python==3.4.13\n",
    "\n",
    "        N個の物体が入っている一枚の二値画像(height, width, 1)から,\n",
    "        opencvのブロブ検出関数を利用して (height, widht, N)のNチャネル画像を生成する\n",
    "        各チャネルが１つの物体のマスク情報となっている\n",
    "\n",
    "        cls_idxsは各チャネルのマスク情報が示す物体のクラスidのリストとなっている\n",
    "        ※もとのブログではすべての物体がcell(id=1)だったのでcls_idxsはnp.ones(N)でよかった\n",
    "    \"\"\"\n",
    "    mask = cv2.imread(mask_path, 0)\n",
    "    _, mask = cv2.threshold(mask, 150, 255, cv2.THRESH_BINARY)\n",
    "\n",
    "    tmp = cv2.connectedComponentsWithStats(mask)\n",
    "    data = copy.deepcopy(tmp[1])\n",
    "\n",
    "    #: 可視化するとブロブ検出関数の意味がよくわかる\n",
    "    #: plt.imshow(data)\n",
    "    #: plt.show()\n",
    "\n",
    "    labels = []\n",
    "    for label in np.unique(data):\n",
    "        #: ラベルID==0は背景\n",
    "        if label == 0:\n",
    "            continue\n",
    "        else:\n",
    "            labels.append(label)\n",
    "\n",
    "    if len(labels) == 0:\n",
    "        #: 対象オブジェクトがない場合はNone\n",
    "        return None, None\n",
    "    else:\n",
    "        mask = np.zeros((mask.shape)+(len(labels),), dtype=np.uint8)\n",
    "        for n, label in enumerate(labels):\n",
    "            mask[:, :, n] = np.uint8(data == label)\n",
    "        cls_idxs = np.ones([mask.shape[-1]], dtype=np.int32) * class_id\n",
    "\n",
    "        return mask, cls_idxs\n",
    "    "
   ]
  },
  {
   "cell_type": "code",
   "execution_count": null,
   "metadata": {},
   "outputs": [],
   "source": []
  }
 ],
 "metadata": {
  "interpreter": {
   "hash": "6b4a9d0a37fae7cfb9e98125e5191c9ee67801e9041781c94a892f8da9cbc8f2"
  },
  "kernelspec": {
   "display_name": "Python 3.8.13 ('cell')",
   "language": "python",
   "name": "python3"
  },
  "language_info": {
   "codemirror_mode": {
    "name": "ipython",
    "version": 3
   },
   "file_extension": ".py",
   "mimetype": "text/x-python",
   "name": "python",
   "nbconvert_exporter": "python",
   "pygments_lexer": "ipython3",
   "version": "3.8.13"
  },
  "orig_nbformat": 4
 },
 "nbformat": 4,
 "nbformat_minor": 2
}
